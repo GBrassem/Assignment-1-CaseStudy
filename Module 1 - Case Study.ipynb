{
 "cells": [
  {
   "cell_type": "markdown",
   "metadata": {},
   "source": [
    "# TrueAccord Case Study\n",
    "\n",
    "## The company I decided to investigate is called TrueAccord.  \n",
    "It is a third-party debt collection agency that uses machine learning and consumer analytics to digitize and modernize the debt collection process.  It was founded in 2013 by Ohad Samet.  Samet’s background is in fraud detection working as the head of analytics at FraudSciences and a founding member of Signifyd, a fraud detection company.  This gave him the technical background to examine large scale patterns of repayments and transactions.  During his time as the chief risk officer at Klarna, he became increasingly frustrated by the outdated methods of collecting outstanding debt, which largely relied upon customers being called by a team of agents, the traditional outbound call center.  This method poses several problems, not the least of which is that customers very often do not pick up the phone, up to 94% of calls, when the number is unknown.  Other issues such as cost, compliance and scalability threaten to render traditional call centers obsolete.\n",
    "\n",
    "### TrueAccord have worked to create an in-bound call system which relies on clients calling in to an automated system, which has resulted in 96% of clients resolve their payment plan without interacting with another person directly.\n",
    "Around 80% of their clients access, update or alter their payment plans directly through their mobile devices.  Additionally, TrueAccord uses machine learning software called Heartbeat which determines how and when to best contact individual clients.  This helps ensure compliance with regulations, resulting in compliance costs 75% lower than the industry average.  Furthermore, it also determines how best to approach collection, be it a payment plan, settlement, or full repayment, etc.  Using its database of over 11 million customers, it can make better decisions personalized to each customer.  TrueAccord is attempting to change the perception of the debt-collection industry, via a less intrusive, more convenient alternative for the average customer as around 70 million American debtors have a negative experience with collection agencies every year.\n",
    "\n",
    "### TrueAccord is a late-stage venture capital business and their current CEO is Mark Ravanesi.  They have raised a total of $47.1 million, from both venture capital firms and selling shares of the company.\n",
    "After an initial seed round of $2 million, their first major investors were Khosla Ventures, and Raymond Tonsing of Caffeinated Capital, who together raised $5 million for series A shares in 2014.  The company has raised money through several additional rounds of financing, including $22 million from Arbor Ventures in 2017.\n",
    "TrueAccord’s target market are American debtors, especially those who are difficult to reach through traditional debt collection methods.  This a large pool of millions of people who have become jaded by the frustrating and often uncomfortable process of collection by phoning clients directly.  Their digital focused approach allows for the automated set-up and follow through of repayments directly through their smartphone creates a smoother and more positive experience.  According to TrueAccord’s numbers, this result in a nearly 40% email open rate, a collection rate 26% higher than tradition firms and a total of over $200 million collected.  TrueAccord uses various technologies to support its new collection model.  Its machine learning software Heartbeat makes use of the English language learning model BERT Large Uncased, as well as several Javascript tools, such as angularjs and jQuery.  Coding is done collaboratively through GitHub.  It handles payments through Spreedly, a flexible digital payment platform.\n",
    "\n",
    "### The debt collection domain can broadly be broken into three recent eras, one of purely analog functions such as physical mail and out-going calls, a hybrid area of digital contact supported by a traditional call center and a purely digital era of primarily self-serve interactions.\n",
    "At the same time, several trends such as rising costs, both in payment and regulatory compliance, have put increasing pressure on the existing hybrid call center model.  Furthermore, consumer preference has been leaning towards the convenience of a fully digital model.\n",
    "Several other competitors have appeared in the same domain, including Zest AI which has raised $250 million dollars and similarly uses artificial intelligence and machine learning to enhance credit underwriting and reduce risk and compliance costs.  Others include Symend, a consumer billing firm, which has raised over $100 million dollars and uses consumer behavioral analytics to maximize client retention.  While debt collection agencies are quite common, very few use a similar digital machine learning system.\n",
    "TrueAccord measures its success in terms of how many clients they retain and recover, as well as how much money is collected from each customer.  Furthermore, they are heavily focused on providing a smooth, highly customizable service and building rapport with clients.  TrueAccord finds that they have 75-100% more paying clients than traditional collection agencies.  They also found that clients preferentially repay debts through TrueAccord due to the convenience and enhanced customer service.  They served over 11 million customers and have collected over 200 million dollars, while collecting 26% more than traditional firms.\n",
    "\n",
    "### If I were to advise the company, I would recommend that they invest more in ensuring they are acting within compliance regulations.\n",
    "TrueAccord was fined by the Connecticut Department of Banking for collecting on illegal Native American loans from “July 2016 to at least November 2020”\n",
    "which had “annual percentage interest rates of greater than 36%”.  Additionally, it was accused of “advertising financial products and services of unlicensed affiliates in communications with consumers”.  The company paid a $10,000 fine and refunded some of its collections.  Compliance is an important part of running a business, and although TrueAccord compliance costs are lower than the industry average due to it automated nature, ensuring its actions are in line with all state and federal regulations, especially regarding Native American tribes, is of utmost importance moving forward.\n"
   ]
  }
 ],
 "metadata": {
  "kernelspec": {
   "display_name": "Python 3.9.12 ('base': conda)",
   "language": "python",
   "name": "python3"
  },
  "language_info": {
   "name": "python",
   "version": "3.9.12"
  },
  "orig_nbformat": 4,
  "vscode": {
   "interpreter": {
    "hash": "ff57633ec96ba3944c1965cf5a10e4b53ed5be26bc513917e4fa4e5dab63a6ab"
   }
  }
 },
 "nbformat": 4,
 "nbformat_minor": 2
}
